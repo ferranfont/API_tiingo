{
 "cells": [
  {
   "cell_type": "code",
   "execution_count": 1,
   "id": "a12e5a05",
   "metadata": {},
   "outputs": [],
   "source": [
    "# api key :  f6421f1b168499debde42264d506f60d2e506b9f\n",
    "import pandas as pd\n",
    "import json\n",
    "import matplotlib.pyplot as plt\n",
    "%matplotlib inline"
   ]
  },
  {
   "cell_type": "code",
   "execution_count": 2,
   "id": "b52b7b6e",
   "metadata": {},
   "outputs": [],
   "source": [
    "import requests\n",
    "\n",
    "TIINGO_API_KEY = 'f6421f1b168499debde42264d506f60d2e506b9f'\n",
    "\n",
    "# This is here to remind you to change your API key.\n",
    "if not TIINGO_API_KEY or (TIINGO_API_KEY == 'REPLACE-THIS-TEXT-WITH-A-REAL-API-KEY'):\n",
    "    raise Exception(\"Please provide a valid Tiingo API key!\")"
   ]
  },
  {
   "cell_type": "code",
   "execution_count": 3,
   "id": "0f1798b5",
   "metadata": {},
   "outputs": [],
   "source": [
    "from tiingo import TiingoClient\n",
    "\n",
    "config = {\n",
    "    'api_key': TIINGO_API_KEY,\n",
    "    'session': True # Reuse HTTP sessions across API calls for better performance\n",
    "}\n",
    "\n",
    "# Throughout the rest of this notebook, you'll use the \"client\" to interact with the Tiingo backend services.\n",
    "client = TiingoClient(config)"
   ]
  },
  {
   "cell_type": "code",
   "execution_count": 4,
   "id": "db2ad106",
   "metadata": {},
   "outputs": [
    {
     "name": "stdout",
     "output_type": "stream",
     "text": [
      "{'ticker': 'GOOGL', 'name': 'Alphabet Inc - Class A', 'description': \"Google Inc. (Google) is a global technology company. The Company's business is primarily focused around key areas, such as search, advertising, operating systems and platforms, enterprise and hardware products. The Company generates revenue primarily by delivering online advertising. The Company also generates revenues from Motorola by selling hardware products. The Company provides its products and services in more than 100 languages and in more than 50 countries, regions, and territories. Effective May 16, 2014, Google Inc acquired Quest Visual Inc. Effective May 20, 2014, Google Inc acquired Enterproid Inc, doing business as Divide. In June 2014, Google Inc acquired mDialog Corp. Effective June 25, 2014, Google Inc acquired Appurify Inc, a San Francisco-based developer of mobile bugging application software.\", 'startDate': '2004-08-19', 'endDate': '2023-07-19', 'exchangeCode': 'NASDAQ'}\n"
     ]
    }
   ],
   "source": [
    "ticker_metadata = client.get_ticker_metadata(\"GOOGL\")\n",
    "print(ticker_metadata)"
   ]
  },
  {
   "cell_type": "code",
   "execution_count": 13,
   "id": "256c85f7",
   "metadata": {},
   "outputs": [
    {
     "data": {
      "text/html": [
       "<div>\n",
       "<style scoped>\n",
       "    .dataframe tbody tr th:only-of-type {\n",
       "        vertical-align: middle;\n",
       "    }\n",
       "\n",
       "    .dataframe tbody tr th {\n",
       "        vertical-align: top;\n",
       "    }\n",
       "\n",
       "    .dataframe thead th {\n",
       "        text-align: right;\n",
       "    }\n",
       "</style>\n",
       "<table border=\"1\" class=\"dataframe\">\n",
       "  <thead>\n",
       "    <tr style=\"text-align: right;\">\n",
       "      <th></th>\n",
       "      <th>name</th>\n",
       "      <th>description</th>\n",
       "      <th>startDate</th>\n",
       "      <th>endDate</th>\n",
       "      <th>exchangeCode</th>\n",
       "    </tr>\n",
       "    <tr>\n",
       "      <th>ticker</th>\n",
       "      <th></th>\n",
       "      <th></th>\n",
       "      <th></th>\n",
       "      <th></th>\n",
       "      <th></th>\n",
       "    </tr>\n",
       "  </thead>\n",
       "  <tbody>\n",
       "    <tr>\n",
       "      <th>GOOGL</th>\n",
       "      <td>Alphabet Inc - Class A</td>\n",
       "      <td>Google Inc. (Google) is a global technology co...</td>\n",
       "      <td>2004-08-19</td>\n",
       "      <td>2023-07-19</td>\n",
       "      <td>NASDAQ</td>\n",
       "    </tr>\n",
       "  </tbody>\n",
       "</table>\n",
       "</div>"
      ],
      "text/plain": [
       "                          name  \\\n",
       "ticker                           \n",
       "GOOGL   Alphabet Inc - Class A   \n",
       "\n",
       "                                              description   startDate  \\\n",
       "ticker                                                                  \n",
       "GOOGL   Google Inc. (Google) is a global technology co...  2004-08-19   \n",
       "\n",
       "           endDate exchangeCode  \n",
       "ticker                           \n",
       "GOOGL   2023-07-19       NASDAQ  "
      ]
     },
     "execution_count": 13,
     "metadata": {},
     "output_type": "execute_result"
    }
   ],
   "source": [
    "ticker_metadata_list = [ticker_metadata]\n",
    "# Crear el DataFrame\n",
    "df = pd.DataFrame(ticker_metadata_list)\n",
    "\n",
    "# Establecer la columna 'ticker' como el índice\n",
    "df.set_index('ticker', inplace=True)\n",
    "df"
   ]
  },
  {
   "cell_type": "code",
   "execution_count": 9,
   "id": "35ec24f8",
   "metadata": {},
   "outputs": [
    {
     "name": "stdout",
     "output_type": "stream",
     "text": [
      "[{'adjClose': 122.03, 'adjHigh': 125.18, 'adjLow': 121.8, 'adjOpen': 124.6, 'adjVolume': 37047538, 'close': 122.03, 'date': '2023-07-19T00:00:00+00:00', 'divCash': 0.0, 'high': 125.18, 'low': 121.8, 'open': 124.6, 'splitFactor': 1.0, 'volume': 37047538}]\n"
     ]
    }
   ],
   "source": [
    "ticker_price = client.get_ticker_price(\"GOOGL\", frequency=\"weekly\")\n",
    "print(ticker_price)"
   ]
  },
  {
   "cell_type": "code",
   "execution_count": 10,
   "id": "49279a09",
   "metadata": {},
   "outputs": [],
   "source": [
    "ticker_history_df = client.get_dataframe(\"GOOGL\",\n",
    "                                         startDate='2018-05-15',\n",
    "                                         endDate='2018-05-31',\n",
    "                                         frequency='daily')"
   ]
  },
  {
   "cell_type": "code",
   "execution_count": 11,
   "id": "35769c20",
   "metadata": {},
   "outputs": [
    {
     "data": {
      "text/plain": [
       "Index(['close', 'high', 'low', 'open', 'volume', 'adjClose', 'adjHigh',\n",
       "       'adjLow', 'adjOpen', 'adjVolume', 'divCash', 'splitFactor'],\n",
       "      dtype='object')"
      ]
     },
     "execution_count": 11,
     "metadata": {},
     "output_type": "execute_result"
    }
   ],
   "source": [
    "ticker_history_df.columns"
   ]
  },
  {
   "cell_type": "code",
   "execution_count": 12,
   "id": "1f5b8a2f",
   "metadata": {},
   "outputs": [
    {
     "data": {
      "text/html": [
       "<div>\n",
       "<style scoped>\n",
       "    .dataframe tbody tr th:only-of-type {\n",
       "        vertical-align: middle;\n",
       "    }\n",
       "\n",
       "    .dataframe tbody tr th {\n",
       "        vertical-align: top;\n",
       "    }\n",
       "\n",
       "    .dataframe thead th {\n",
       "        text-align: right;\n",
       "    }\n",
       "</style>\n",
       "<table border=\"1\" class=\"dataframe\">\n",
       "  <thead>\n",
       "    <tr style=\"text-align: right;\">\n",
       "      <th></th>\n",
       "      <th>close</th>\n",
       "      <th>high</th>\n",
       "      <th>low</th>\n",
       "      <th>open</th>\n",
       "      <th>volume</th>\n",
       "      <th>adjClose</th>\n",
       "      <th>adjHigh</th>\n",
       "      <th>adjLow</th>\n",
       "      <th>adjOpen</th>\n",
       "      <th>adjVolume</th>\n",
       "      <th>divCash</th>\n",
       "      <th>splitFactor</th>\n",
       "    </tr>\n",
       "    <tr>\n",
       "      <th>date</th>\n",
       "      <th></th>\n",
       "      <th></th>\n",
       "      <th></th>\n",
       "      <th></th>\n",
       "      <th></th>\n",
       "      <th></th>\n",
       "      <th></th>\n",
       "      <th></th>\n",
       "      <th></th>\n",
       "      <th></th>\n",
       "      <th></th>\n",
       "      <th></th>\n",
       "    </tr>\n",
       "  </thead>\n",
       "  <tbody>\n",
       "    <tr>\n",
       "      <th>2018-05-15 00:00:00+00:00</th>\n",
       "      <td>1084.87</td>\n",
       "      <td>1099.12</td>\n",
       "      <td>1078.78</td>\n",
       "      <td>1096.90</td>\n",
       "      <td>1786926</td>\n",
       "      <td>54.2435</td>\n",
       "      <td>54.9560</td>\n",
       "      <td>53.9390</td>\n",
       "      <td>54.8450</td>\n",
       "      <td>35738520</td>\n",
       "      <td>0.0</td>\n",
       "      <td>1.0</td>\n",
       "    </tr>\n",
       "    <tr>\n",
       "      <th>2018-05-16 00:00:00+00:00</th>\n",
       "      <td>1084.09</td>\n",
       "      <td>1094.38</td>\n",
       "      <td>1081.63</td>\n",
       "      <td>1085.09</td>\n",
       "      <td>1281406</td>\n",
       "      <td>54.2045</td>\n",
       "      <td>54.7190</td>\n",
       "      <td>54.0815</td>\n",
       "      <td>54.2545</td>\n",
       "      <td>25628120</td>\n",
       "      <td>0.0</td>\n",
       "      <td>1.0</td>\n",
       "    </tr>\n",
       "    <tr>\n",
       "      <th>2018-05-17 00:00:00+00:00</th>\n",
       "      <td>1081.26</td>\n",
       "      <td>1091.00</td>\n",
       "      <td>1076.42</td>\n",
       "      <td>1081.46</td>\n",
       "      <td>1286907</td>\n",
       "      <td>54.0630</td>\n",
       "      <td>54.5500</td>\n",
       "      <td>53.8210</td>\n",
       "      <td>54.0730</td>\n",
       "      <td>25738140</td>\n",
       "      <td>0.0</td>\n",
       "      <td>1.0</td>\n",
       "    </tr>\n",
       "    <tr>\n",
       "      <th>2018-05-18 00:00:00+00:00</th>\n",
       "      <td>1069.64</td>\n",
       "      <td>1073.73</td>\n",
       "      <td>1064.68</td>\n",
       "      <td>1066.00</td>\n",
       "      <td>1774149</td>\n",
       "      <td>53.4820</td>\n",
       "      <td>53.6865</td>\n",
       "      <td>53.2340</td>\n",
       "      <td>53.3000</td>\n",
       "      <td>35482980</td>\n",
       "      <td>0.0</td>\n",
       "      <td>1.0</td>\n",
       "    </tr>\n",
       "    <tr>\n",
       "      <th>2018-05-21 00:00:00+00:00</th>\n",
       "      <td>1084.01</td>\n",
       "      <td>1093.30</td>\n",
       "      <td>1078.00</td>\n",
       "      <td>1079.00</td>\n",
       "      <td>1258999</td>\n",
       "      <td>54.2005</td>\n",
       "      <td>54.6650</td>\n",
       "      <td>53.9000</td>\n",
       "      <td>53.9500</td>\n",
       "      <td>25179980</td>\n",
       "      <td>0.0</td>\n",
       "      <td>1.0</td>\n",
       "    </tr>\n",
       "  </tbody>\n",
       "</table>\n",
       "</div>"
      ],
      "text/plain": [
       "                             close     high      low     open   volume  \\\n",
       "date                                                                     \n",
       "2018-05-15 00:00:00+00:00  1084.87  1099.12  1078.78  1096.90  1786926   \n",
       "2018-05-16 00:00:00+00:00  1084.09  1094.38  1081.63  1085.09  1281406   \n",
       "2018-05-17 00:00:00+00:00  1081.26  1091.00  1076.42  1081.46  1286907   \n",
       "2018-05-18 00:00:00+00:00  1069.64  1073.73  1064.68  1066.00  1774149   \n",
       "2018-05-21 00:00:00+00:00  1084.01  1093.30  1078.00  1079.00  1258999   \n",
       "\n",
       "                           adjClose  adjHigh   adjLow  adjOpen  adjVolume  \\\n",
       "date                                                                        \n",
       "2018-05-15 00:00:00+00:00   54.2435  54.9560  53.9390  54.8450   35738520   \n",
       "2018-05-16 00:00:00+00:00   54.2045  54.7190  54.0815  54.2545   25628120   \n",
       "2018-05-17 00:00:00+00:00   54.0630  54.5500  53.8210  54.0730   25738140   \n",
       "2018-05-18 00:00:00+00:00   53.4820  53.6865  53.2340  53.3000   35482980   \n",
       "2018-05-21 00:00:00+00:00   54.2005  54.6650  53.9000  53.9500   25179980   \n",
       "\n",
       "                           divCash  splitFactor  \n",
       "date                                             \n",
       "2018-05-15 00:00:00+00:00      0.0          1.0  \n",
       "2018-05-16 00:00:00+00:00      0.0          1.0  \n",
       "2018-05-17 00:00:00+00:00      0.0          1.0  \n",
       "2018-05-18 00:00:00+00:00      0.0          1.0  \n",
       "2018-05-21 00:00:00+00:00      0.0          1.0  "
      ]
     },
     "execution_count": 12,
     "metadata": {},
     "output_type": "execute_result"
    }
   ],
   "source": [
    "ticker_history_df.head()"
   ]
  },
  {
   "cell_type": "code",
   "execution_count": 14,
   "id": "6c60f2c6",
   "metadata": {},
   "outputs": [
    {
     "data": {
      "text/plain": [
       "array([<Axes: xlabel='date'>, <Axes: xlabel='date'>], dtype=object)"
      ]
     },
     "execution_count": 14,
     "metadata": {},
     "output_type": "execute_result"
    },
    {
     "data": {
      "image/png": "[encoded data removed]",
      "text/plain": [
       "<Figure size 640x480 with 2 Axes>"
      ]
     },
     "metadata": {},
     "output_type": "display_data"
    }
   ],
   "source": [
    "columns_to_plot = ['adjClose', 'adjOpen']\n",
    "ticker_history_df[columns_to_plot].plot.line(subplots=True)"
   ]
  },
  {
   "cell_type": "code",
   "execution_count": null,
   "id": "d95bb259",
   "metadata": {},
   "outputs": [],
   "source": []
  },
  {
   "cell_type": "code",
   "execution_count": null,
   "id": "a9ad7225",
   "metadata": {},
   "outputs": [],
   "source": []
  }
 ],
 "metadata": {
  "kernelspec": {
   "display_name": "Python 3 (ipykernel)",
   "language": "python",
   "name": "python3"
  },
  "language_info": {
   "codemirror_mode": {
    "name": "ipython",
    "version": 3
   },
   "file_extension": ".py",
   "mimetype": "text/x-python",
   "name": "python",
   "nbconvert_exporter": "python",
   "pygments_lexer": "ipython3",
   "version": "3.10.9"
  }
 },
 "nbformat": 4,
 "nbformat_minor": 5
}
